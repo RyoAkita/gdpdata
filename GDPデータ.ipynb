{
 "cells": [
  {
   "cell_type": "code",
   "execution_count": 1,
   "metadata": {},
   "outputs": [],
   "source": [
    "import pandas as pd"
   ]
  },
  {
   "cell_type": "code",
   "execution_count": 5,
   "metadata": {},
   "outputs": [],
   "source": [
    "gdp_data = pd.read_csv('GDP_data.csv', sep=';')\n",
    "gdp_data = gdp_data.rename(columns = {'Unnamed: 0': 'Time'})\n",
    "gdp_data = gdp_data.drop('Unnamed: 5', axis=1)\n",
    "gdp_data = gdp_data.drop('Unnamed: 6', axis=1)"
   ]
  },
  {
   "cell_type": "code",
   "execution_count": 7,
   "metadata": {},
   "outputs": [],
   "source": [
    "gdp_data = gdp_data.rename(columns = {'Unnamed: 0': 'Time'})"
   ]
  },
  {
   "cell_type": "code",
   "execution_count": 9,
   "metadata": {},
   "outputs": [],
   "source": [
    "gdp_data = gdp_data.drop('Unnamed: 5', axis=1)\n",
    "gdp_data = gdp_data.drop('Unnamed: 6', axis=1)"
   ]
  },
  {
   "cell_type": "code",
   "execution_count": 15,
   "metadata": {},
   "outputs": [
    {
     "data": {
      "text/html": [
       "<div>\n",
       "<style scoped>\n",
       "    .dataframe tbody tr th:only-of-type {\n",
       "        vertical-align: middle;\n",
       "    }\n",
       "\n",
       "    .dataframe tbody tr th {\n",
       "        vertical-align: top;\n",
       "    }\n",
       "\n",
       "    .dataframe thead th {\n",
       "        text-align: right;\n",
       "    }\n",
       "</style>\n",
       "<table border=\"1\" class=\"dataframe\">\n",
       "  <thead>\n",
       "    <tr style=\"text-align: right;\">\n",
       "      <th></th>\n",
       "      <th>Time</th>\n",
       "      <th>Japan</th>\n",
       "      <th>USA</th>\n",
       "      <th>China</th>\n",
       "      <th>Netherlands</th>\n",
       "    </tr>\n",
       "  </thead>\n",
       "  <tbody>\n",
       "    <tr>\n",
       "      <th>24</th>\n",
       "      <td>2014</td>\n",
       "      <td>4850414</td>\n",
       "      <td>17527275</td>\n",
       "      <td>10534526</td>\n",
       "      <td>892398</td>\n",
       "    </tr>\n",
       "    <tr>\n",
       "      <th>25</th>\n",
       "      <td>2015</td>\n",
       "      <td>4389476</td>\n",
       "      <td>18224775</td>\n",
       "      <td>11226186</td>\n",
       "      <td>765650</td>\n",
       "    </tr>\n",
       "    <tr>\n",
       "      <th>26</th>\n",
       "      <td>2016</td>\n",
       "      <td>4926668</td>\n",
       "      <td>18715050</td>\n",
       "      <td>11221836</td>\n",
       "      <td>783844</td>\n",
       "    </tr>\n",
       "    <tr>\n",
       "      <th>27</th>\n",
       "      <td>2017</td>\n",
       "      <td>4859788</td>\n",
       "      <td>19519400</td>\n",
       "      <td>12062285</td>\n",
       "      <td>833575</td>\n",
       "    </tr>\n",
       "    <tr>\n",
       "      <th>28</th>\n",
       "      <td>2018</td>\n",
       "      <td>4971767</td>\n",
       "      <td>20580250</td>\n",
       "      <td>13368073</td>\n",
       "      <td>914519</td>\n",
       "    </tr>\n",
       "  </tbody>\n",
       "</table>\n",
       "</div>"
      ],
      "text/plain": [
       "    Time    Japan       USA     China  Netherlands\n",
       "24  2014  4850414  17527275  10534526       892398\n",
       "25  2015  4389476  18224775  11226186       765650\n",
       "26  2016  4926668  18715050  11221836       783844\n",
       "27  2017  4859788  19519400  12062285       833575\n",
       "28  2018  4971767  20580250  13368073       914519"
      ]
     },
     "execution_count": 15,
     "metadata": {},
     "output_type": "execute_result"
    }
   ],
   "source": [
    "gdp_data.tail()"
   ]
  },
  {
   "cell_type": "code",
   "execution_count": 14,
   "metadata": {},
   "outputs": [
    {
     "data": {
      "text/plain": [
       "0     3132817\n",
       "1     3584420\n",
       "2     3908808\n",
       "3     4454144\n",
       "4     4907039\n",
       "5     5449118\n",
       "6     4833714\n",
       "7     4414734\n",
       "8     4032511\n",
       "9     4562079\n",
       "10    4887520\n",
       "11    4303542\n",
       "12    4115116\n",
       "13    4445659\n",
       "14    4815169\n",
       "15    4755411\n",
       "16    4530377\n",
       "17    4515263\n",
       "18    5037909\n",
       "19    5231383\n",
       "20    5700099\n",
       "21    6157458\n",
       "22    6203212\n",
       "23    5155716\n",
       "24    4850414\n",
       "25    4389476\n",
       "26    4926668\n",
       "27    4859788\n",
       "28    4971767\n",
       "Name: Japan, dtype: int64"
      ]
     },
     "execution_count": 14,
     "metadata": {},
     "output_type": "execute_result"
    }
   ],
   "source": [
    "gdp_data['Japan']"
   ]
  },
  {
   "cell_type": "code",
   "execution_count": null,
   "metadata": {},
   "outputs": [],
   "source": []
  }
 ],
 "metadata": {
  "kernelspec": {
   "display_name": "Python 3",
   "language": "python",
   "name": "python3"
  },
  "language_info": {
   "codemirror_mode": {
    "name": "ipython",
    "version": 3
   },
   "file_extension": ".py",
   "mimetype": "text/x-python",
   "name": "python",
   "nbconvert_exporter": "python",
   "pygments_lexer": "ipython3",
   "version": "3.7.3"
  }
 },
 "nbformat": 4,
 "nbformat_minor": 2
}
